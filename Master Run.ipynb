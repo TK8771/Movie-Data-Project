{
 "cells": [
  {
   "cell_type": "markdown",
   "metadata": {},
   "source": [
    "## Movie Data Project"
   ]
  },
  {
   "cell_type": "markdown",
   "metadata": {},
   "source": [
    "My objective is to leverage Trakt and Boxofficemojo.com's APIs to pull and perform analysis on movie data."
   ]
  },
  {
   "cell_type": "markdown",
   "metadata": {},
   "source": [
    "More information on the sources I'm using to collect this data: <br>\n",
    "Trakt: https://trakt.docs.apiary.io (general movie data) <br>\n",
    "Boxofficemojo: https://www.boxofficemojo.com (movie revenue data)"
   ]
  },
  {
   "cell_type": "markdown",
   "metadata": {},
   "source": [
    "The rest of automation would have been done through either Window's Task Scheduler or Jupyter Notebook's Scheduler. <br>\n",
    "Jupyter Notebook's Scheduler: https://docs.qubole.com/en/latest/user-guide/notebooks-and-dashboards/notebooks/jupyter-notebooks/scheduling-jupy-notebooks.html"
   ]
  },
  {
   "cell_type": "code",
   "execution_count": 116,
   "metadata": {},
   "outputs": [],
   "source": [
    "# Importing all libraries I could *potentially* use here\n",
    "import pandas as pd\n",
    "import re\n",
    "import requests\n",
    "import regex\n",
    "import time\n",
    "import json\n",
    "import pickle\n",
    "import pyodbc\n",
    "from bs4 import BeautifulSoup"
   ]
  },
  {
   "cell_type": "markdown",
   "metadata": {},
   "source": [
    "This first part is a web scraper to collect Movie metadata information on Trakt. Only the scrape should be required - I'll be doing the JSON loading and analysis in SQL."
   ]
  },
  {
   "cell_type": "code",
   "execution_count": 117,
   "metadata": {},
   "outputs": [],
   "source": [
    "# Create list of years I'd like to pull\n",
    "years = ['2015','2016','2017','2018','2019']\n",
    "\n",
    "#Create blank list to drop combine JSONs into\n",
    "output_list = []\n",
    "\n",
    "#Necessary headers to make a call to Trakt's API\n",
    "headers = {'Content-type':'application/json',\n",
    "           'trakt-api-key':'fb05749dcceb9b63f4c63e3a8b90127ed6e4d56ddb184107b96dc3541cf2b902',\n",
    "           'trakt-api-version':'2'}\n",
    " \n",
    "#Going to loop through the 5 years I used earlier\n",
    "for year in years:\n",
    "    #And this is so I can use pagination to collect more data\n",
    "    for i in range(1, 11):\n",
    "        # Create URL\n",
    "        url = ('https://api.trakt.tv/movies/watched/yearly?years={}&extended=full&page={}&limit=100'.format(year, i))\n",
    "        \n",
    "        # Generate request\n",
    "        res = requests.get(url, headers=headers)\n",
    "    \n",
    "        # Change type from bytes to list\n",
    "        new_list = res.json()\n",
    "        \n",
    "        # First run just needs to fill the output_list with initial results\n",
    "        if year == '2015' and i == 1:\n",
    "            output_list = new_list\n",
    "        \n",
    "        # Subsquent iterations need to add to it\n",
    "        else:\n",
    "            output_list += new_list"
   ]
  },
  {
   "cell_type": "code",
   "execution_count": 119,
   "metadata": {},
   "outputs": [],
   "source": [
    "json_save = json.dumps(output_list)\n",
    "save = open(\"movie_data.json\", \"w\")\n",
    "save.write(json_save)\n",
    "save.close()"
   ]
  },
  {
   "cell_type": "markdown",
   "metadata": {},
   "source": [
    "I'll need to stich together revenue data from a different source, as it doesn't to seem to be available (historically at least) via Trakt. This is where Boxofficemojo comes in."
   ]
  },
  {
   "cell_type": "markdown",
   "metadata": {},
   "source": [
    "Another web scraper, but this time using BeautifulSoup to parse out the file, then doing some basic data cleanup in python, then saving as an .csv for upload and analysis in SQL."
   ]
  },
  {
   "cell_type": "code",
   "execution_count": 120,
   "metadata": {},
   "outputs": [],
   "source": [
    "# Create DF and years list\n",
    "df_movie_rev = pd.DataFrame([], columns=['movie_title', 'gross', 'total_gross', 'theaters'])\n",
    "years = ['2015','2016','2017','2018','2019']\n",
    "\n",
    "# Begin scrape\n",
    "for year in years:\n",
    "    url = ('https://www.boxofficemojo.com/yearly/chart/?view2=worldwide&yr={}&p=.htm'.format(year))\n",
    "    \n",
    "    # Generate request\n",
    "    res = requests.get(url)\n",
    "    \n",
    "    # Instantiate BeautifulSoup\n",
    "    soup = BeautifulSoup(res.content, 'html.parser')\n",
    "    \n",
    "    # Pull out movie title\n",
    "    movie_title = soup.find_all(href=re.compile(\"/release/\"))\n",
    "    \n",
    "    # Pull out both types of revenue\n",
    "    # There's no uniqueness in the html to differentiate b/w gross and total gross, so we'll have to seperate out later\n",
    "    gross_revenue = soup.find_all('td', {'class':'a-text-right mojo-field-type-money mojo-estimatable'})\n",
    "    \n",
    "    # Pull out theaters count\n",
    "    theaters = soup.find_all('td', {'class':'a-text-right mojo-field-type-positive_integer'})\n",
    "                                \n",
    "    # Going to take the highest 250 grossing movies from each of the years\n",
    "    for a in range(0, 250):\n",
    "        # First iteration's math should work out differently then subsquent runs\n",
    "        if a == 0:\n",
    "            df_movie_rev = df_movie_rev.append({'movie_title':movie_title[a].text,\n",
    "                                                'gross':gross_revenue[a].text,\n",
    "                                                'total_gross':gross_revenue[a + 1].text, \n",
    "                                                'theaters':theaters[a].text}, ignore_index = True)\n",
    "            \n",
    "        # Adding in some calcs to variable to make sure the numbers line up                       \n",
    "        elif a != 0:\n",
    "            df_movie_rev = df_movie_rev.append({'movie_title':movie_title[a].text,\n",
    "                                                'gross':gross_revenue[2 * a].text,\n",
    "                                                'total_gross':gross_revenue[2 * a + 1].text, \n",
    "                                                'theaters':theaters[a].text}, ignore_index = True)"
   ]
  },
  {
   "cell_type": "code",
   "execution_count": 121,
   "metadata": {},
   "outputs": [
    {
     "data": {
      "text/html": [
       "<div>\n",
       "<style scoped>\n",
       "    .dataframe tbody tr th:only-of-type {\n",
       "        vertical-align: middle;\n",
       "    }\n",
       "\n",
       "    .dataframe tbody tr th {\n",
       "        vertical-align: top;\n",
       "    }\n",
       "\n",
       "    .dataframe thead th {\n",
       "        text-align: right;\n",
       "    }\n",
       "</style>\n",
       "<table border=\"1\" class=\"dataframe\">\n",
       "  <thead>\n",
       "    <tr style=\"text-align: right;\">\n",
       "      <th></th>\n",
       "      <th>movie_title</th>\n",
       "      <th>gross</th>\n",
       "      <th>total_gross</th>\n",
       "      <th>theaters</th>\n",
       "    </tr>\n",
       "  </thead>\n",
       "  <tbody>\n",
       "    <tr>\n",
       "      <th>0</th>\n",
       "      <td>Jurassic World</td>\n",
       "      <td>$652,270,625</td>\n",
       "      <td>$652,270,625</td>\n",
       "      <td>4,291</td>\n",
       "    </tr>\n",
       "    <tr>\n",
       "      <th>1</th>\n",
       "      <td>Star Wars: Episode VII - The Force Awakens</td>\n",
       "      <td>$651,967,269</td>\n",
       "      <td>$936,662,225</td>\n",
       "      <td>4,134</td>\n",
       "    </tr>\n",
       "    <tr>\n",
       "      <th>2</th>\n",
       "      <td>Avengers: Age of Ultron</td>\n",
       "      <td>$459,005,868</td>\n",
       "      <td>$459,005,868</td>\n",
       "      <td>4,276</td>\n",
       "    </tr>\n",
       "    <tr>\n",
       "      <th>3</th>\n",
       "      <td>Inside Out</td>\n",
       "      <td>$356,461,711</td>\n",
       "      <td>$356,461,711</td>\n",
       "      <td>4,158</td>\n",
       "    </tr>\n",
       "    <tr>\n",
       "      <th>4</th>\n",
       "      <td>Furious 7</td>\n",
       "      <td>$353,007,020</td>\n",
       "      <td>$353,007,020</td>\n",
       "      <td>4,022</td>\n",
       "    </tr>\n",
       "    <tr>\n",
       "      <th>...</th>\n",
       "      <td>...</td>\n",
       "      <td>...</td>\n",
       "      <td>...</td>\n",
       "      <td>...</td>\n",
       "    </tr>\n",
       "    <tr>\n",
       "      <th>1245</th>\n",
       "      <td>Nothing to Lose 2</td>\n",
       "      <td>$1,150,551</td>\n",
       "      <td>$1,150,551</td>\n",
       "      <td>105</td>\n",
       "    </tr>\n",
       "    <tr>\n",
       "      <th>1246</th>\n",
       "      <td>Western Stars</td>\n",
       "      <td>$1,141,681</td>\n",
       "      <td>$1,581,681</td>\n",
       "      <td>553</td>\n",
       "    </tr>\n",
       "    <tr>\n",
       "      <th>1247</th>\n",
       "      <td>Konosuba!: God's Blessing on This Wonderful Wo...</td>\n",
       "      <td>$1,134,786</td>\n",
       "      <td>$1,134,786</td>\n",
       "      <td>692</td>\n",
       "    </tr>\n",
       "    <tr>\n",
       "      <th>1248</th>\n",
       "      <td>My Neighbor Totoro</td>\n",
       "      <td>$1,105,564</td>\n",
       "      <td>$1,105,564</td>\n",
       "      <td>767</td>\n",
       "    </tr>\n",
       "    <tr>\n",
       "      <th>1249</th>\n",
       "      <td>Playmobil: The Movie</td>\n",
       "      <td>$1,104,483</td>\n",
       "      <td>$1,115,008</td>\n",
       "      <td>2,337</td>\n",
       "    </tr>\n",
       "  </tbody>\n",
       "</table>\n",
       "<p>1250 rows × 4 columns</p>\n",
       "</div>"
      ],
      "text/plain": [
       "                                            movie_title         gross  \\\n",
       "0                                        Jurassic World  $652,270,625   \n",
       "1            Star Wars: Episode VII - The Force Awakens  $651,967,269   \n",
       "2                               Avengers: Age of Ultron  $459,005,868   \n",
       "3                                            Inside Out  $356,461,711   \n",
       "4                                             Furious 7  $353,007,020   \n",
       "...                                                 ...           ...   \n",
       "1245                                  Nothing to Lose 2    $1,150,551   \n",
       "1246                                      Western Stars    $1,141,681   \n",
       "1247  Konosuba!: God's Blessing on This Wonderful Wo...    $1,134,786   \n",
       "1248                                 My Neighbor Totoro    $1,105,564   \n",
       "1249                               Playmobil: The Movie    $1,104,483   \n",
       "\n",
       "       total_gross theaters  \n",
       "0     $652,270,625    4,291  \n",
       "1     $936,662,225    4,134  \n",
       "2     $459,005,868    4,276  \n",
       "3     $356,461,711    4,158  \n",
       "4     $353,007,020    4,022  \n",
       "...            ...      ...  \n",
       "1245    $1,150,551      105  \n",
       "1246    $1,581,681      553  \n",
       "1247    $1,134,786      692  \n",
       "1248    $1,105,564      767  \n",
       "1249    $1,115,008    2,337  \n",
       "\n",
       "[1250 rows x 4 columns]"
      ]
     },
     "execution_count": 121,
     "metadata": {},
     "output_type": "execute_result"
    }
   ],
   "source": [
    "# Just to take a look at the DF\n",
    "df_movie_rev"
   ]
  },
  {
   "cell_type": "code",
   "execution_count": 122,
   "metadata": {},
   "outputs": [],
   "source": [
    "# Basic clean-up of some characters so they don't cause downstream issues\n",
    "df_movie_rev['movie_title'] = df_movie_rev['movie_title'].map(lambda x: x.replace('\"',''))\n",
    "df_movie_rev['movie_title'] = df_movie_rev['movie_title'].map(lambda x: x.replace(\"'\",''))\n",
    "df_movie_rev['movie_title'] = df_movie_rev['movie_title'].map(lambda x: x.replace(',',''))\n",
    "df_movie_rev['gross'] = df_movie_rev['gross'].map(lambda x: x.replace('$',''))\n",
    "df_movie_rev['gross'] = df_movie_rev['gross'].map(lambda x: x.replace(',',''))\n",
    "df_movie_rev['total_gross'] = df_movie_rev['total_gross'].map(lambda x: x.replace('$',''))\n",
    "df_movie_rev['total_gross'] = df_movie_rev['total_gross'].map(lambda x: x.replace(',',''))\n",
    "df_movie_rev['theaters'] = df_movie_rev['theaters'].map(lambda x: x.replace('$',''))\n",
    "df_movie_rev['theaters'] = df_movie_rev['theaters'].map(lambda x: x.replace(',',''))"
   ]
  },
  {
   "cell_type": "code",
   "execution_count": 123,
   "metadata": {},
   "outputs": [],
   "source": [
    "# Dropping into csv\n",
    "df_movie_rev.to_csv(r\"C:\\Users\\Owner\\Documents\\Movie_project\\movie_rev.csv\", index=False)"
   ]
  },
  {
   "cell_type": "markdown",
   "metadata": {},
   "source": [
    "Now I'm going to step over to SQL to load the data and then run queries for analysis."
   ]
  },
  {
   "cell_type": "code",
   "execution_count": 124,
   "metadata": {},
   "outputs": [],
   "source": [
    "#Connecting to the db and creating cursor item\n",
    "conn = pyodbc.connect('DRIVER={SQL Server};SERVER=WIN8-PC\\SQLEXPRESS;DATABASE=master;trusted_connection=yes')\n",
    "#Leaving this here in case I want to change authentication user later:\n",
    "#;UID=Win8-PC\\Owner;PWD=''')\n",
    "cursor = conn.cursor()"
   ]
  },
  {
   "cell_type": "code",
   "execution_count": 125,
   "metadata": {},
   "outputs": [
    {
     "data": {
      "text/plain": [
       "<pyodbc.Cursor at 0x7d19e562b0>"
      ]
     },
     "execution_count": 125,
     "metadata": {},
     "output_type": "execute_result"
    }
   ],
   "source": [
    "# Create Schema\n",
    "cmd_exec_proc = \"\"\"EXEC Movies.dbo.Setup_Tables\"\"\"\n",
    "conn.autocommit=True\n",
    "cursor.execute(cmd_exec_proc)"
   ]
  },
  {
   "cell_type": "code",
   "execution_count": 126,
   "metadata": {},
   "outputs": [
    {
     "data": {
      "text/plain": [
       "<pyodbc.Cursor at 0x7d19e562b0>"
      ]
     },
     "execution_count": 126,
     "metadata": {},
     "output_type": "execute_result"
    }
   ],
   "source": [
    "# Drop data into Movies and Revenue tables\n",
    "cmd_exec_proc = \"\"\"EXEC Movies.dbo.Raw_data_upload\"\"\"\n",
    "conn.autocommit=True\n",
    "cursor.execute(cmd_exec_proc)"
   ]
  },
  {
   "cell_type": "code",
   "execution_count": 127,
   "metadata": {},
   "outputs": [
    {
     "data": {
      "text/plain": [
       "<pyodbc.Cursor at 0x7d19e562b0>"
      ]
     },
     "execution_count": 127,
     "metadata": {},
     "output_type": "execute_result"
    }
   ],
   "source": [
    "# Some cleaning and ID assigning for ease of query writing \n",
    "cmd_exec_proc = \"\"\"EXEC Movies.dbo.Data_clean\"\"\"\n",
    "conn.autocommit=True\n",
    "cursor.execute(cmd_exec_proc)"
   ]
  },
  {
   "cell_type": "code",
   "execution_count": 128,
   "metadata": {},
   "outputs": [
    {
     "data": {
      "text/plain": [
       "<pyodbc.Cursor at 0x7d19e562b0>"
      ]
     },
     "execution_count": 128,
     "metadata": {},
     "output_type": "execute_result"
    }
   ],
   "source": [
    "# Generate reports\n",
    "cmd_exec_proc = \"\"\"EXEC Movies.dbo.Run_reports\"\"\"\n",
    "conn.autocommit=True\n",
    "cursor.execute(cmd_exec_proc)"
   ]
  },
  {
   "cell_type": "code",
   "execution_count": 129,
   "metadata": {},
   "outputs": [],
   "source": [
    "# Close out cursor object\n",
    "conn.close()"
   ]
  },
  {
   "cell_type": "markdown",
   "metadata": {},
   "source": [
    "I'm working on a free version of Microsoft SQL Server, so I don't believe the function msdb.dbo.sp_send_dbmail is available for usage. This step would merely send the data in an email and attached text form. As a result, this data would have to directly viewed in SQL Server for the time being."
   ]
  }
 ],
 "metadata": {
  "kernelspec": {
   "display_name": "Python 3",
   "language": "python",
   "name": "python3"
  },
  "language_info": {
   "codemirror_mode": {
    "name": "ipython",
    "version": 3
   },
   "file_extension": ".py",
   "mimetype": "text/x-python",
   "name": "python",
   "nbconvert_exporter": "python",
   "pygments_lexer": "ipython3",
   "version": "3.7.6"
  }
 },
 "nbformat": 4,
 "nbformat_minor": 4
}
